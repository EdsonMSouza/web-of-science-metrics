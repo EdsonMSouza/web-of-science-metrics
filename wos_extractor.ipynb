{
 "cells": [
  {
   "cell_type": "markdown",
   "metadata": {},
   "source": [
    "# Web <em>of</em> Science Crawler\n",
    "\n",
    "This program is an enhancement of the version created by Santana (2018) to collect data from available publications on the search for a term on the Web of Science website.\n",
    "\n",
    "In this release it is possible to perform authentication automatically through Selenium, including reuse of authentication, as well as advanced searches using WoS proprietary TAGS.\n",
    "\n",
    "Authors: De Souza, Edson Melo; Storópoli, José Eduardo; Alves, Wonder Alexandre Luz<br>\n",
    "Version: 3.0 (2019)<br>\n",
    "\n",
    "Original source: Santana, Octavio (2018) - https://github.com/Octavio-Santana/Web-Science\n",
    "\n",
    "---"
   ]
  },
  {
   "cell_type": "markdown",
   "metadata": {},
   "source": [
    "## Retrieved Data\n",
    "\n",
    "*Some data may be incomplete\n",
    "\n",
    "| Field                   | Description                                      |\n",
    "|-------------------------|--------------------------------------------------|\n",
    "| wos_id                  | Web of Science article ID                        |\n",
    "| doi                     | Digital Object Identifier                        |\n",
    "| title                   | Article title                                    |\n",
    "| year                    | Year of publication                              |\n",
    "| author                  | Authors byline                                   |\n",
    "| n_references            | References in article                            |\n",
    "| n_cited                 | Citation count                                   |\n",
    "| journal                 | Journal name                                     |\n",
    "| impact_factor           | Impact factor (IF)                               |\n",
    "| impact_factor_year      | Year of IF                                       |\n",
    "| j_impact_factor_5_years | Shows the long-term citation trend for a journal |\n",
    "| issn                    | ISSN journal                                     |\n",
    "| eissn                   | Eletronic ISSN                                   |\n",
    "| author_keywords         | Keywords informed by the author                  |\n",
    "| keywords_plus           | Provides additional keywords                     |\n",
    "| research_area           | Research area                                    |\n",
    "| abstract                | Full abstract                                    |\n"
   ]
  },
  {
   "cell_type": "markdown",
   "metadata": {},
   "source": [
    "## Instructions\n",
    "\n",
    "<ul>\n",
    "    <li>Its necessary set the <strong>language to English</strong> into Web <em>of </em>Science.</li>\n",
    "    <li>You can search any term using WoS (Web of Science) tags (see site). See the example below in the \"search_term\" variable.</li>\n",
    "    <li>Do not use commas to compose the search expression.</li>\n",
    "    <li>At the end of the processing a resulting file will be generated with the analysis of the data and named as \"<strong>Search Term</strong>\".</li>\n",
    "    <li>For further queries, repeat the procedures.</li>\n",
    "    <li>This notebook shows a example with term \"<strong>artificial intelligence in medicine</strong>\"</li>\n",
    "</ul>"
   ]
  },
  {
   "cell_type": "markdown",
   "metadata": {},
   "source": [
    "## Input data to search\n",
    "Insert the search term below in variable <strong>search_term</strong>\n",
    "\n",
    "WoS provides a broad set of tags for use in search. For more information, see the instructions at: [WoS Advanced Search](https://apps.webofknowledge.com/WOS_AdvancedSearch_input.do?SID=7BtkvvzULX57U1SFGUR&product=WOS&search_mode=AdvancedSearch)\n",
    "\n",
    "Usage example: 'TI=author* position'"
   ]
  },
  {
   "cell_type": "code",
   "execution_count": 1,
   "metadata": {},
   "outputs": [
    {
     "name": "stdout",
     "output_type": "stream",
     "text": [
      "\n",
      "Found 13 links to scrap .... starting\n",
      "\u001b[KScraping 00013: Machine learning for data mining i..."
     ]
    }
   ],
   "source": [
    "# Search term usage example\n",
    "search_term = 'TI=machine learning in medicine'\n",
    "\n",
    "#path to ChromeDriver\n",
    "pathChromedriver='.\\chromedriver.exe'\n",
    "\n",
    "from WoSExtractor import *\n",
    "wos = WoSExtractor(pathChromedriver) \n",
    "df_article = wos.search(search_term)"
   ]
  },
  {
   "cell_type": "markdown",
   "metadata": {},
   "source": [
    "## Save data recovered to file"
   ]
  },
  {
   "cell_type": "code",
   "execution_count": 2,
   "metadata": {},
   "outputs": [],
   "source": [
    "df_article.to_csv(wos.file_name(search_term) + '_data.csv', index=False)"
   ]
  },
  {
   "cell_type": "markdown",
   "metadata": {},
   "source": [
    "## Convert values to Excel format"
   ]
  },
  {
   "cell_type": "code",
   "execution_count": 3,
   "metadata": {},
   "outputs": [],
   "source": [
    "import pandas as pd\n",
    "df = pd.read_csv(wos.file_name(search_term) + '_data.csv')\n",
    "df.to_excel(wos.file_name(search_term) + '_result.xlsx', header=True, index=False, encoding='utf-8')"
   ]
  },
  {
   "cell_type": "markdown",
   "metadata": {},
   "source": [
    "## Show results"
   ]
  },
  {
   "cell_type": "code",
   "execution_count": 4,
   "metadata": {},
   "outputs": [
    {
     "name": "stdout",
     "output_type": "stream",
     "text": [
      "Recovered articles: 13 \n",
      "\n"
     ]
    },
    {
     "data": {
      "text/html": [
       "<div>\n",
       "<style scoped>\n",
       "    .dataframe tbody tr th:only-of-type {\n",
       "        vertical-align: middle;\n",
       "    }\n",
       "\n",
       "    .dataframe tbody tr th {\n",
       "        vertical-align: top;\n",
       "    }\n",
       "\n",
       "    .dataframe thead th {\n",
       "        text-align: right;\n",
       "    }\n",
       "</style>\n",
       "<table border=\"1\" class=\"dataframe\">\n",
       "  <thead>\n",
       "    <tr style=\"text-align: right;\">\n",
       "      <th></th>\n",
       "      <th>wos_id</th>\n",
       "      <th>doi</th>\n",
       "      <th>title</th>\n",
       "      <th>year</th>\n",
       "      <th>author</th>\n",
       "      <th>n_references</th>\n",
       "      <th>n_cited</th>\n",
       "      <th>journal</th>\n",
       "      <th>impact_factor</th>\n",
       "      <th>impact_factor_year</th>\n",
       "      <th>j_impact_factor_5_years</th>\n",
       "      <th>issn</th>\n",
       "      <th>eissn</th>\n",
       "      <th>author_keywords</th>\n",
       "      <th>keywords_plus</th>\n",
       "      <th>research_area</th>\n",
       "      <th>abstract</th>\n",
       "    </tr>\n",
       "  </thead>\n",
       "  <tbody>\n",
       "    <tr>\n",
       "      <th>0</th>\n",
       "      <td>WOS:000466056900007</td>\n",
       "      <td>10.1016/j.inffus.2018.09.012</td>\n",
       "      <td>Machine learning for integrating data in biolo...</td>\n",
       "      <td>2019</td>\n",
       "      <td>Zitnik, M; Nguyen, F; Wang, B; Leskovec, J; Go...</td>\n",
       "      <td>352</td>\n",
       "      <td>12</td>\n",
       "      <td>INFORMATION FUSION</td>\n",
       "      <td>10.716</td>\n",
       "      <td>2018</td>\n",
       "      <td>8.875</td>\n",
       "      <td>1566-2535</td>\n",
       "      <td>1872-6305</td>\n",
       "      <td>COMPUTATIONAL BIOLOGY;PERSONALIZED MEDICINE;SY...</td>\n",
       "      <td>DRUG-DRUG INTERACTION;GENOME-WIDE ASSOCIATION;...</td>\n",
       "      <td>COMPUTER SCIENCE</td>\n",
       "      <td>New technologies have enabled the investigatio...</td>\n",
       "    </tr>\n",
       "    <tr>\n",
       "      <th>1</th>\n",
       "      <td>WOS:000476719700001</td>\n",
       "      <td>10.1155/2019/6847685</td>\n",
       "      <td>Evaluation and Identification of the Neuroprot...</td>\n",
       "      <td>2019</td>\n",
       "      <td>Yang, SL; Shen, YJ; Lu, WD; Yang, YL; Wang, HG...</td>\n",
       "      <td>42</td>\n",
       "      <td>0</td>\n",
       "      <td>BIOMED RESEARCH INTERNATIONAL</td>\n",
       "      <td>2.197</td>\n",
       "      <td>2018</td>\n",
       "      <td>2.885</td>\n",
       "      <td>2314-6133</td>\n",
       "      <td>2314-6141</td>\n",
       "      <td>NaN</td>\n",
       "      <td>HEART-DISEASE;RANDOM FOREST;CLASSIFICATION;UPD...</td>\n",
       "      <td>BIOTECHNOLOGY &amp; APPLIED MICROBIOLOGY;RESEARCH ...</td>\n",
       "      <td>Xiaoxuming decoction (XXMD), a classic traditi...</td>\n",
       "    </tr>\n",
       "    <tr>\n",
       "      <th>2</th>\n",
       "      <td>WOS:000463992600010</td>\n",
       "      <td>10.1371/journal.pone.0213836</td>\n",
       "      <td>Dynamic multi-outcome prediction after injury:...</td>\n",
       "      <td>2019</td>\n",
       "      <td>Christie, SA; Conroy, AS; Callcut, RA; Hubbard...</td>\n",
       "      <td>46</td>\n",
       "      <td>0</td>\n",
       "      <td>PLOS ONE</td>\n",
       "      <td>2.776</td>\n",
       "      <td>2018</td>\n",
       "      <td>3.337</td>\n",
       "      <td>1932-6203</td>\n",
       "      <td>NaN</td>\n",
       "      <td>NaN</td>\n",
       "      <td>SEVERITY SCORE;APACHE-II;CLASSIFICATION;TRANSF...</td>\n",
       "      <td>SCIENCE &amp; TECHNOLOGY</td>\n",
       "      <td>Objective\\n\\nMachine learning techniques have ...</td>\n",
       "    </tr>\n",
       "    <tr>\n",
       "      <th>3</th>\n",
       "      <td>WOS:000463679700001</td>\n",
       "      <td>10.3389/fmolb.2019.00019</td>\n",
       "      <td>Applying Machine Learning of Erythrocytes Dyna...</td>\n",
       "      <td>2019</td>\n",
       "      <td>Rafea, M; Elkafrawy, P; Nasef, MM; Elnemr, R; ...</td>\n",
       "      <td>29</td>\n",
       "      <td>0</td>\n",
       "      <td>FRONTIERS IN MOLECULAR BIOSCIENCES</td>\n",
       "      <td>0.000</td>\n",
       "      <td>0</td>\n",
       "      <td>0.000</td>\n",
       "      <td>NaN</td>\n",
       "      <td>2296-889X</td>\n",
       "      <td>MASS SPECTROMETRY;DISORDERS DIAGNOSIS;ERYTHROC...</td>\n",
       "      <td>BIOMARKER DISCOVERY;CANCER;DIAGNOSTICS;PROTEOM...</td>\n",
       "      <td>BIOCHEMISTRY &amp; MOLECULAR BIOLOGY</td>\n",
       "      <td>Erythrocytes Dynamic Antigens Store (EDAS) is ...</td>\n",
       "    </tr>\n",
       "    <tr>\n",
       "      <th>4</th>\n",
       "      <td>WOS:000471140100004</td>\n",
       "      <td>10.1136/bmjstel-2017-000289</td>\n",
       "      <td>Effective resource management using machine le...</td>\n",
       "      <td>2019</td>\n",
       "      <td>Williams, A; Mekhail, AM; Williams, J; McCord,...</td>\n",
       "      <td>17</td>\n",
       "      <td>2</td>\n",
       "      <td>BMJ SIMULATION &amp; TECHNOLOGY ENHANCED LEARNING</td>\n",
       "      <td>0.000</td>\n",
       "      <td>0</td>\n",
       "      <td>0.000</td>\n",
       "      <td>2056-6697</td>\n",
       "      <td>NaN</td>\n",
       "      <td>NaN</td>\n",
       "      <td>ELECTRONIC HEALTH RECORDS</td>\n",
       "      <td>HEALTH CARE SCIENCES &amp; SERVICES</td>\n",
       "      <td>Background The field of medicine is rapidly be...</td>\n",
       "    </tr>\n",
       "  </tbody>\n",
       "</table>\n",
       "</div>"
      ],
      "text/plain": [
       "                wos_id                           doi  \\\n",
       "0  WOS:000466056900007  10.1016/j.inffus.2018.09.012   \n",
       "1  WOS:000476719700001          10.1155/2019/6847685   \n",
       "2  WOS:000463992600010  10.1371/journal.pone.0213836   \n",
       "3  WOS:000463679700001      10.3389/fmolb.2019.00019   \n",
       "4  WOS:000471140100004   10.1136/bmjstel-2017-000289   \n",
       "\n",
       "                                               title  year  \\\n",
       "0  Machine learning for integrating data in biolo...  2019   \n",
       "1  Evaluation and Identification of the Neuroprot...  2019   \n",
       "2  Dynamic multi-outcome prediction after injury:...  2019   \n",
       "3  Applying Machine Learning of Erythrocytes Dyna...  2019   \n",
       "4  Effective resource management using machine le...  2019   \n",
       "\n",
       "                                              author  n_references  n_cited  \\\n",
       "0  Zitnik, M; Nguyen, F; Wang, B; Leskovec, J; Go...           352       12   \n",
       "1  Yang, SL; Shen, YJ; Lu, WD; Yang, YL; Wang, HG...            42        0   \n",
       "2  Christie, SA; Conroy, AS; Callcut, RA; Hubbard...            46        0   \n",
       "3  Rafea, M; Elkafrawy, P; Nasef, MM; Elnemr, R; ...            29        0   \n",
       "4  Williams, A; Mekhail, AM; Williams, J; McCord,...            17        2   \n",
       "\n",
       "                                         journal  impact_factor  \\\n",
       "0                             INFORMATION FUSION         10.716   \n",
       "1                  BIOMED RESEARCH INTERNATIONAL          2.197   \n",
       "2                                       PLOS ONE          2.776   \n",
       "3             FRONTIERS IN MOLECULAR BIOSCIENCES          0.000   \n",
       "4  BMJ SIMULATION & TECHNOLOGY ENHANCED LEARNING          0.000   \n",
       "\n",
       "   impact_factor_year  j_impact_factor_5_years       issn      eissn  \\\n",
       "0                2018                    8.875  1566-2535  1872-6305   \n",
       "1                2018                    2.885  2314-6133  2314-6141   \n",
       "2                2018                    3.337  1932-6203        NaN   \n",
       "3                   0                    0.000        NaN  2296-889X   \n",
       "4                   0                    0.000  2056-6697        NaN   \n",
       "\n",
       "                                     author_keywords  \\\n",
       "0  COMPUTATIONAL BIOLOGY;PERSONALIZED MEDICINE;SY...   \n",
       "1                                                NaN   \n",
       "2                                                NaN   \n",
       "3  MASS SPECTROMETRY;DISORDERS DIAGNOSIS;ERYTHROC...   \n",
       "4                                                NaN   \n",
       "\n",
       "                                       keywords_plus  \\\n",
       "0  DRUG-DRUG INTERACTION;GENOME-WIDE ASSOCIATION;...   \n",
       "1  HEART-DISEASE;RANDOM FOREST;CLASSIFICATION;UPD...   \n",
       "2  SEVERITY SCORE;APACHE-II;CLASSIFICATION;TRANSF...   \n",
       "3  BIOMARKER DISCOVERY;CANCER;DIAGNOSTICS;PROTEOM...   \n",
       "4                          ELECTRONIC HEALTH RECORDS   \n",
       "\n",
       "                                       research_area  \\\n",
       "0                                   COMPUTER SCIENCE   \n",
       "1  BIOTECHNOLOGY & APPLIED MICROBIOLOGY;RESEARCH ...   \n",
       "2                               SCIENCE & TECHNOLOGY   \n",
       "3                   BIOCHEMISTRY & MOLECULAR BIOLOGY   \n",
       "4                    HEALTH CARE SCIENCES & SERVICES   \n",
       "\n",
       "                                            abstract  \n",
       "0  New technologies have enabled the investigatio...  \n",
       "1  Xiaoxuming decoction (XXMD), a classic traditi...  \n",
       "2  Objective\\n\\nMachine learning techniques have ...  \n",
       "3  Erythrocytes Dynamic Antigens Store (EDAS) is ...  \n",
       "4  Background The field of medicine is rapidly be...  "
      ]
     },
     "execution_count": 4,
     "metadata": {},
     "output_type": "execute_result"
    }
   ],
   "source": [
    "print('Recovered articles:', df.shape[0], '\\n')\n",
    "df.head(5)"
   ]
  },
  {
   "cell_type": "markdown",
   "metadata": {},
   "source": [
    "# Import libraries to show result"
   ]
  },
  {
   "cell_type": "code",
   "execution_count": 5,
   "metadata": {},
   "outputs": [],
   "source": [
    "# Import libraries\n",
    "import warnings\n",
    "warnings.simplefilter(\"ignore\")\n",
    "\n",
    "%matplotlib inline\n",
    "import matplotlib.pyplot as plt\n",
    "import seaborn as sns"
   ]
  },
  {
   "cell_type": "markdown",
   "metadata": {},
   "source": [
    "## Data Analisys\n",
    "Display the number of publications between year 2000 and and actual date available in Web of Science"
   ]
  },
  {
   "cell_type": "code",
   "execution_count": 6,
   "metadata": {},
   "outputs": [
    {
     "data": {
      "image/png": "[encoded data removed]",
      "text/plain": [
       "<Figure size 720x432 with 1 Axes>"
      ]
     },
     "metadata": {
      "needs_background": "light"
     },
     "output_type": "display_data"
    }
   ],
   "source": [
    "fig, ax1 = plt.subplots(nrows=1, figsize=(10,6))\n",
    "ax1 = sns.countplot(x=df.loc[df.year>=2000, 'year'], ax=ax1) ## colocar uma variável para o ano\n",
    "ax1.set_title('Número de publicações entre 2000 e 2019', fontsize=12)\n",
    "ax1.set_xlabel('Ano da publicação', fontsize=10)\n",
    "ax1.set_ylabel('Número de publicações', fontsize=10)\n",
    "ax1.grid(True)\n",
    "plt.savefig(\"publicacoes_por_ano.png\", dpi=300)\n",
    "plt.show()"
   ]
  },
  {
   "cell_type": "markdown",
   "metadata": {},
   "source": [
    "#### Total Authors\n",
    "Display total number of authors in articles have already published on the term of search"
   ]
  },
  {
   "cell_type": "code",
   "execution_count": 7,
   "metadata": {},
   "outputs": [
    {
     "name": "stdout",
     "output_type": "stream",
     "text": [
      "73 authors have already published on the term of search\n"
     ]
    }
   ],
   "source": [
    "author = [name.split('; ') for name in df.author.values]\n",
    "nomes = list({name \n",
    "              for names in author \n",
    "              for name in names})\n",
    "print(\"{} authors have already published on the term of search\".format(len(nomes)))"
   ]
  },
  {
   "cell_type": "markdown",
   "metadata": {},
   "source": [
    "#### Total Journals Published\n",
    "Display journals and/or conferences related to the search theme"
   ]
  },
  {
   "cell_type": "code",
   "execution_count": 8,
   "metadata": {},
   "outputs": [
    {
     "name": "stdout",
     "output_type": "stream",
     "text": [
      "13 journals and/or conferences related to the search theme\n"
     ]
    }
   ],
   "source": [
    "journals = list({paper for paper in df.journal})\n",
    "print(\"{} journals and/or conferences related to the search theme\".format(len(journals)))"
   ]
  },
  {
   "cell_type": "markdown",
   "metadata": {},
   "source": [
    "### Count number of publications\n",
    "<ul>\n",
    "    <li>Authrs: popular_authors</li>\n",
    "    <li>Journals: popular_journals</li>\n",
    "</ul>\n",
    "\n",
    "#### Top 10 Authors"
   ]
  },
  {
   "cell_type": "code",
   "execution_count": 9,
   "metadata": {},
   "outputs": [
    {
     "data": {
      "image/png": "[encoded data removed]",
      "text/plain": [
       "<Figure size 792x504 with 1 Axes>"
      ]
     },
     "metadata": {
      "needs_background": "light"
     },
     "output_type": "display_data"
    }
   ],
   "source": [
    "from collections import Counter\n",
    "popular_authors = Counter(name\n",
    "                         for names in author\n",
    "                         for name in names).most_common()\n",
    "\n",
    "popular_journals = Counter(df.journal.values).most_common()\n",
    "\n",
    "def popular(coluna, popular_coluna):\n",
    "    popular = {}\n",
    "    popular[coluna] = []\n",
    "    popular['count'] = []\n",
    "    for col, count in popular_coluna:\n",
    "        popular[coluna].append(col)\n",
    "        popular['count'].append(count)\n",
    "    \n",
    "    return pd.DataFrame(data=popular)\n",
    "\n",
    "df_popular_authors = popular('author', popular_authors)\n",
    "df_popular_authors.head(10).set_index('author').sort_values('count', ascending=True).plot(kind='barh', \n",
    "                                                                                  figsize=(11,7), \n",
    "                                                                                  grid=False, \n",
    "                                                                                  color='darkgreen', \n",
    "                                                                                  legend=False)\n",
    "plt.title('The top 10 authors on the subject', fontsize=20)\n",
    "plt.xlabel('Number of publications', fontsize=20)\n",
    "plt.ylabel('Authors name', fontsize=20)\n",
    "plt.savefig(\"top_10_authors.png\", dpi=300)\n",
    "plt.show()"
   ]
  },
  {
   "cell_type": "markdown",
   "metadata": {},
   "source": [
    "#### Top 10 Journals"
   ]
  },
  {
   "cell_type": "code",
   "execution_count": 10,
   "metadata": {},
   "outputs": [
    {
     "data": {
      "image/png": "[encoded data removed]",
      "text/plain": [
       "<Figure size 720x432 with 1 Axes>"
      ]
     },
     "metadata": {
      "needs_background": "light"
     },
     "output_type": "display_data"
    }
   ],
   "source": [
    "df_popular_journals = popular('journal', popular_journals)\n",
    "df_popular_journals.head(10).set_index('journal').sort_values('count', ascending=True).plot(kind='barh', \n",
    "                                                                                  figsize=(10,6), \n",
    "                                                                                  grid=True, \n",
    "                                                                                  color='darkgreen', \n",
    "                                                                                  legend=False)\n",
    "plt.title('The top 10 journals most widely published term', fontsize=12)\n",
    "plt.xlabel('Number of publications', fontsize=10)\n",
    "plt.ylabel('Journal name', fontsize=10)\n",
    "plt.savefig(\"amount_of_periodicals.png\", dpi=300)\n",
    "plt.show()"
   ]
  },
  {
   "cell_type": "markdown",
   "metadata": {},
   "source": [
    "### Show the best 5 Journals Impact Factor "
   ]
  },
  {
   "cell_type": "code",
   "execution_count": 11,
   "metadata": {},
   "outputs": [
    {
     "data": {
      "text/html": [
       "<div>\n",
       "<style scoped>\n",
       "    .dataframe tbody tr th:only-of-type {\n",
       "        vertical-align: middle;\n",
       "    }\n",
       "\n",
       "    .dataframe tbody tr th {\n",
       "        vertical-align: top;\n",
       "    }\n",
       "\n",
       "    .dataframe thead th {\n",
       "        text-align: right;\n",
       "    }\n",
       "</style>\n",
       "<table border=\"1\" class=\"dataframe\">\n",
       "  <thead>\n",
       "    <tr style=\"text-align: right;\">\n",
       "      <th></th>\n",
       "      <th>wos_id</th>\n",
       "      <th>doi</th>\n",
       "      <th>title</th>\n",
       "      <th>year</th>\n",
       "      <th>author</th>\n",
       "      <th>n_references</th>\n",
       "      <th>n_cited</th>\n",
       "      <th>journal</th>\n",
       "      <th>impact_factor</th>\n",
       "      <th>impact_factor_year</th>\n",
       "      <th>j_impact_factor_5_years</th>\n",
       "      <th>issn</th>\n",
       "      <th>eissn</th>\n",
       "      <th>author_keywords</th>\n",
       "      <th>keywords_plus</th>\n",
       "      <th>research_area</th>\n",
       "      <th>abstract</th>\n",
       "    </tr>\n",
       "  </thead>\n",
       "  <tbody>\n",
       "    <tr>\n",
       "      <th>10</th>\n",
       "      <td>WOS:000364632100010</td>\n",
       "      <td>10.1161/CIRCULATIONAHA.115.001593</td>\n",
       "      <td>Machine Learning in Medicine</td>\n",
       "      <td>2015</td>\n",
       "      <td>Deo, RC</td>\n",
       "      <td>41</td>\n",
       "      <td>220</td>\n",
       "      <td>CIRCULATION</td>\n",
       "      <td>23.054</td>\n",
       "      <td>2018</td>\n",
       "      <td>20.469</td>\n",
       "      <td>0009-7322</td>\n",
       "      <td>1524-4539</td>\n",
       "      <td>ARTIFICIAL INTELLIGENCE;COMPUTERS;PROGNOSIS;RI...</td>\n",
       "      <td>PRESERVED EJECTION FRACTION;HEART-FAILURE;PRED...</td>\n",
       "      <td>CARDIOVASCULAR SYSTEM &amp; CARDIOLOGY</td>\n",
       "      <td>Spurred by advances in processing power, memor...</td>\n",
       "    </tr>\n",
       "    <tr>\n",
       "      <th>8</th>\n",
       "      <td>WOS:000419308000003</td>\n",
       "      <td>10.1038/s41467-017-02465-5</td>\n",
       "      <td>A machine learning approach to integrate big d...</td>\n",
       "      <td>2018</td>\n",
       "      <td>Lee, SI; Celik, S; Logsdon, BA; Lundberg, SM; ...</td>\n",
       "      <td>63</td>\n",
       "      <td>14</td>\n",
       "      <td>NATURE COMMUNICATIONS</td>\n",
       "      <td>11.878</td>\n",
       "      <td>2018</td>\n",
       "      <td>13.811</td>\n",
       "      <td>2041-1723</td>\n",
       "      <td>NaN</td>\n",
       "      <td>NaN</td>\n",
       "      <td>ACUTE MYELOGENOUS LEUKEMIA;ACUTE LYMPHOBLASTIC...</td>\n",
       "      <td>SCIENCE &amp; TECHNOLOGY</td>\n",
       "      <td>Cancers that appear pathologically similar oft...</td>\n",
       "    </tr>\n",
       "    <tr>\n",
       "      <th>0</th>\n",
       "      <td>WOS:000466056900007</td>\n",
       "      <td>10.1016/j.inffus.2018.09.012</td>\n",
       "      <td>Machine learning for integrating data in biolo...</td>\n",
       "      <td>2019</td>\n",
       "      <td>Zitnik, M; Nguyen, F; Wang, B; Leskovec, J; Go...</td>\n",
       "      <td>352</td>\n",
       "      <td>12</td>\n",
       "      <td>INFORMATION FUSION</td>\n",
       "      <td>10.716</td>\n",
       "      <td>2018</td>\n",
       "      <td>8.875</td>\n",
       "      <td>1566-2535</td>\n",
       "      <td>1872-6305</td>\n",
       "      <td>COMPUTATIONAL BIOLOGY;PERSONALIZED MEDICINE;SY...</td>\n",
       "      <td>DRUG-DRUG INTERACTION;GENOME-WIDE ASSOCIATION;...</td>\n",
       "      <td>COMPUTER SCIENCE</td>\n",
       "      <td>New technologies have enabled the investigatio...</td>\n",
       "    </tr>\n",
       "    <tr>\n",
       "      <th>5</th>\n",
       "      <td>WOS:000462868200006</td>\n",
       "      <td>10.2967/jnumed.118.223495</td>\n",
       "      <td>Machine Learning in Nuclear Medicine: Part 1-I...</td>\n",
       "      <td>2019</td>\n",
       "      <td>Uribe, CF; Mathotaarachchi, S; Gaudet, V; Smit...</td>\n",
       "      <td>28</td>\n",
       "      <td>3</td>\n",
       "      <td>JOURNAL OF NUCLEAR MEDICINE</td>\n",
       "      <td>7.308</td>\n",
       "      <td>2018</td>\n",
       "      <td>6.720</td>\n",
       "      <td>0161-5505</td>\n",
       "      <td>1535-5667</td>\n",
       "      <td>MACHINE LEARNING;ARTIFICIAL INTELLIGENCE;NUCLE...</td>\n",
       "      <td>CONVOLUTIONAL NEURAL-NETWORKS;DEEP;FEATURES;MODEL</td>\n",
       "      <td>RADIOLOGY, NUCLEAR MEDICINE &amp; MEDICAL IMAGING</td>\n",
       "      <td>Learning Objectives: On successful completion ...</td>\n",
       "    </tr>\n",
       "    <tr>\n",
       "      <th>11</th>\n",
       "      <td>WOS:000178201900005</td>\n",
       "      <td>10.1016/S0933-3657(02)00053-2</td>\n",
       "      <td>Analysis of respiratory pressure-volume curves...</td>\n",
       "      <td>2002</td>\n",
       "      <td>Ganzert, S; Guttmann, J; Kersting, K; Kuhlen, ...</td>\n",
       "      <td>12</td>\n",
       "      <td>19</td>\n",
       "      <td>ARTIFICIAL INTELLIGENCE IN MEDICINE</td>\n",
       "      <td>3.574</td>\n",
       "      <td>2018</td>\n",
       "      <td>3.197</td>\n",
       "      <td>0933-3657</td>\n",
       "      <td>NaN</td>\n",
       "      <td>MACHINE LEARNING;DATA MINING;CLASSIFICATION;DE...</td>\n",
       "      <td>COMBINING MATHEMATICAL-MODELS;INTELLIGENT ALAR...</td>\n",
       "      <td>COMPUTER SCIENCE;ENGINEERING;MEDICAL INFORMATICS</td>\n",
       "      <td>We present a case study of machine learning an...</td>\n",
       "    </tr>\n",
       "  </tbody>\n",
       "</table>\n",
       "</div>"
      ],
      "text/plain": [
       "                 wos_id                                doi  \\\n",
       "10  WOS:000364632100010  10.1161/CIRCULATIONAHA.115.001593   \n",
       "8   WOS:000419308000003         10.1038/s41467-017-02465-5   \n",
       "0   WOS:000466056900007       10.1016/j.inffus.2018.09.012   \n",
       "5   WOS:000462868200006          10.2967/jnumed.118.223495   \n",
       "11  WOS:000178201900005      10.1016/S0933-3657(02)00053-2   \n",
       "\n",
       "                                                title  year  \\\n",
       "10                       Machine Learning in Medicine  2015   \n",
       "8   A machine learning approach to integrate big d...  2018   \n",
       "0   Machine learning for integrating data in biolo...  2019   \n",
       "5   Machine Learning in Nuclear Medicine: Part 1-I...  2019   \n",
       "11  Analysis of respiratory pressure-volume curves...  2002   \n",
       "\n",
       "                                               author  n_references  n_cited  \\\n",
       "10                                            Deo, RC            41      220   \n",
       "8   Lee, SI; Celik, S; Logsdon, BA; Lundberg, SM; ...            63       14   \n",
       "0   Zitnik, M; Nguyen, F; Wang, B; Leskovec, J; Go...           352       12   \n",
       "5   Uribe, CF; Mathotaarachchi, S; Gaudet, V; Smit...            28        3   \n",
       "11  Ganzert, S; Guttmann, J; Kersting, K; Kuhlen, ...            12       19   \n",
       "\n",
       "                                journal  impact_factor  impact_factor_year  \\\n",
       "10                          CIRCULATION         23.054                2018   \n",
       "8                 NATURE COMMUNICATIONS         11.878                2018   \n",
       "0                    INFORMATION FUSION         10.716                2018   \n",
       "5           JOURNAL OF NUCLEAR MEDICINE          7.308                2018   \n",
       "11  ARTIFICIAL INTELLIGENCE IN MEDICINE          3.574                2018   \n",
       "\n",
       "    j_impact_factor_5_years       issn      eissn  \\\n",
       "10                   20.469  0009-7322  1524-4539   \n",
       "8                    13.811  2041-1723        NaN   \n",
       "0                     8.875  1566-2535  1872-6305   \n",
       "5                     6.720  0161-5505  1535-5667   \n",
       "11                    3.197  0933-3657        NaN   \n",
       "\n",
       "                                      author_keywords  \\\n",
       "10  ARTIFICIAL INTELLIGENCE;COMPUTERS;PROGNOSIS;RI...   \n",
       "8                                                 NaN   \n",
       "0   COMPUTATIONAL BIOLOGY;PERSONALIZED MEDICINE;SY...   \n",
       "5   MACHINE LEARNING;ARTIFICIAL INTELLIGENCE;NUCLE...   \n",
       "11  MACHINE LEARNING;DATA MINING;CLASSIFICATION;DE...   \n",
       "\n",
       "                                        keywords_plus  \\\n",
       "10  PRESERVED EJECTION FRACTION;HEART-FAILURE;PRED...   \n",
       "8   ACUTE MYELOGENOUS LEUKEMIA;ACUTE LYMPHOBLASTIC...   \n",
       "0   DRUG-DRUG INTERACTION;GENOME-WIDE ASSOCIATION;...   \n",
       "5   CONVOLUTIONAL NEURAL-NETWORKS;DEEP;FEATURES;MODEL   \n",
       "11  COMBINING MATHEMATICAL-MODELS;INTELLIGENT ALAR...   \n",
       "\n",
       "                                       research_area  \\\n",
       "10                CARDIOVASCULAR SYSTEM & CARDIOLOGY   \n",
       "8                               SCIENCE & TECHNOLOGY   \n",
       "0                                   COMPUTER SCIENCE   \n",
       "5      RADIOLOGY, NUCLEAR MEDICINE & MEDICAL IMAGING   \n",
       "11  COMPUTER SCIENCE;ENGINEERING;MEDICAL INFORMATICS   \n",
       "\n",
       "                                             abstract  \n",
       "10  Spurred by advances in processing power, memor...  \n",
       "8   Cancers that appear pathologically similar oft...  \n",
       "0   New technologies have enabled the investigatio...  \n",
       "5   Learning Objectives: On successful completion ...  \n",
       "11  We present a case study of machine learning an...  "
      ]
     },
     "execution_count": 11,
     "metadata": {},
     "output_type": "execute_result"
    }
   ],
   "source": [
    "df_cited = df.sort_values('impact_factor', ascending=False)\n",
    "df_cited.head(5)"
   ]
  },
  {
   "cell_type": "code",
   "execution_count": null,
   "metadata": {},
   "outputs": [],
   "source": []
  }
 ],
 "metadata": {
  "kernelspec": {
   "display_name": "Python 3",
   "language": "python",
   "name": "python3"
  },
  "language_info": {
   "codemirror_mode": {
    "name": "ipython",
    "version": 3
   },
   "file_extension": ".py",
   "mimetype": "text/x-python",
   "name": "python",
   "nbconvert_exporter": "python",
   "pygments_lexer": "ipython3",
   "version": "3.6.9"
  }
 },
 "nbformat": 4,
 "nbformat_minor": 4
}
