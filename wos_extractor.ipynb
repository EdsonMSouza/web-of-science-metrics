{
 "cells": [
  {
   "cell_type": "markdown",
   "metadata": {},
   "source": [
    "# Web <em>of</em> Science Crawler\n",
    "\n",
    "This program is an enhancement of the version created by Santana (2018) to collect data from available publications on the search for a term on the Web of Science website.\n",
    "\n",
    "In this release it is possible to perform authentication automatically through Selenium, including reuse of authentication, as well as advanced searches using WoS proprietary TAGS.\n",
    "\n",
    "Authors: De Souza, Edson Melo; Storópoli, José Eduardo; Alves, Wonder Alexandre Luz<br>\n",
    "Version: 3.0 (2019)<br>\n",
    "\n",
    "Original source: Santana, Octavio (2018) - https://github.com/Octavio-Santana/Web-Science\n",
    "\n",
    "---"
   ]
  },
  {
   "cell_type": "markdown",
   "metadata": {},
   "source": [
    "## Retrieved Data\n",
    "\n",
    "*Some data may be incomplete\n",
    "\n",
    "| Field                   | Description                                      |\n",
    "|-------------------------|--------------------------------------------------|\n",
    "| wos_id                  | Web of Science article ID                        |\n",
    "| doi                     | Digital Object Identifier                        |\n",
    "| title                   | Article title                                    |\n",
    "| year                    | Year of publication                              |\n",
    "| author                  | Authors byline                                   |\n",
    "| n_references            | References in article                            |\n",
    "| n_cited                 | Citation count                                   |\n",
    "| journal                 | Journal name                                     |\n",
    "| impact_factor           | Impact factor (IF)                               |\n",
    "| impact_factor_year      | Year of IF                                       |\n",
    "| j_impact_factor_5_years | Shows the long-term citation trend for a journal |\n",
    "| issn                    | ISSN journal                                     |\n",
    "| eissn                   | Eletronic ISSN                                   |\n",
    "| author_keywords         | Keywords informed by the author                  |\n",
    "| keywords_plus           | Provides additional keywords                     |\n",
    "| research_area           | Research area                                    |\n",
    "| abstract                | Full abstract                                    |\n"
   ]
  },
  {
   "cell_type": "markdown",
   "metadata": {},
   "source": [
    "## Instructions\n",
    "\n",
    "<ul>\n",
    "    <li>Its necessary set the <strong>language to English</strong> into Web <em>of </em>Science.</li>\n",
    "    <li>You can search any term using WoS (Web of Science) tags (see site). See the example below in the \"search_term\" variable.</li>\n",
    "    <li>Do not use commas to compose the search expression.</li>\n",
    "    <li>At the end of the processing a resulting file will be generated with the analysis of the data and named as \"<strong>Search Term</strong>\".</li>\n",
    "    <li>For further queries, repeat the procedures.</li>\n",
    "    <li>This notebook shows a example with term \"<strong>artificial intelligence in medicine</strong>\"</li>\n",
    "</ul>"
   ]
  },
  {
   "cell_type": "markdown",
   "metadata": {},
   "source": [
    "## Input data to search\n",
    "Insert the search term below in variable <strong>search_term</strong>\n",
    "\n",
    "WoS provides a broad set of tags for use in search. For more information, see the instructions at: [WoS Advanced Search](https://apps.webofknowledge.com/WOS_AdvancedSearch_input.do?SID=7BtkvvzULX57U1SFGUR&product=WOS&search_mode=AdvancedSearch)\n",
    "\n",
    "Usage example: 'TI=author* position'"
   ]
  },
  {
   "cell_type": "code",
   "execution_count": null,
   "metadata": {},
   "outputs": [],
   "source": [
    "# Search term usage example\n",
    "search_term = 'TI=artificial intelligence in medicine'\n",
    "\n",
    "#path to ChromeDriver\n",
    "pathChromedriver='.\\chromedriver.exe'\n",
    "\n",
    "from WoSExtractor import *\n",
    "wos = WoSExtractor(pathChromedriver) \n",
    "df_article = wos.search(search_term)"
   ]
  },
  {
   "cell_type": "markdown",
   "metadata": {},
   "source": [
    "## Save data recovered to file"
   ]
  },
  {
   "cell_type": "code",
   "execution_count": null,
   "metadata": {},
   "outputs": [],
   "source": [
    "df_article.to_csv(wos.file_name(search_term) + '_data.csv', index=False)"
   ]
  },
  {
   "cell_type": "markdown",
   "metadata": {},
   "source": [
    "## Convert values to Excel format"
   ]
  },
  {
   "cell_type": "code",
   "execution_count": null,
   "metadata": {},
   "outputs": [],
   "source": [
    "import pandas as pd\n",
    "df = pd.read_csv(wos.file_name(search_term) + '_data.csv')\n",
    "df.to_excel(wos.file_name(search_term) + '_result.xlsx', header=True, index=False, encoding='utf-8')"
   ]
  },
  {
   "cell_type": "markdown",
   "metadata": {},
   "source": [
    "## Show results"
   ]
  },
  {
   "cell_type": "code",
   "execution_count": null,
   "metadata": {},
   "outputs": [],
   "source": [
    "print('Recovered articles:', df.shape[0], '\\n')\n",
    "df.head(5)"
   ]
  },
  {
   "cell_type": "markdown",
   "metadata": {},
   "source": [
    "# Import libraries to show result"
   ]
  },
  {
   "cell_type": "code",
   "execution_count": null,
   "metadata": {},
   "outputs": [],
   "source": [
    "# Import libraries\n",
    "import warnings\n",
    "warnings.simplefilter(\"ignore\")\n",
    "\n",
    "%matplotlib inline\n",
    "import matplotlib.pyplot as plt\n",
    "import seaborn as sns"
   ]
  },
  {
   "cell_type": "markdown",
   "metadata": {},
   "source": [
    "## Data Analisys\n",
    "Display the number of publications between year 2000 and and actual date available in Web of Science"
   ]
  },
  {
   "cell_type": "code",
   "execution_count": null,
   "metadata": {},
   "outputs": [],
   "source": [
    "fig, ax1 = plt.subplots(nrows=1, figsize=(10,6))\n",
    "ax1 = sns.countplot(x=df.loc[df.year>=2000, 'year'], ax=ax1) ## colocar uma variável para o ano\n",
    "ax1.set_title('Número de publicações entre 2000 e 2019', fontsize=12)\n",
    "ax1.set_xlabel('Ano da publicação', fontsize=10)\n",
    "ax1.set_ylabel('Número de publicações', fontsize=10)\n",
    "ax1.grid(True)\n",
    "plt.savefig(\"publicacoes_por_ano.png\", dpi=300)\n",
    "plt.show()"
   ]
  },
  {
   "cell_type": "markdown",
   "metadata": {},
   "source": [
    "#### Total Authors\n",
    "Display total number of authors in articles have already published on the term of search"
   ]
  },
  {
   "cell_type": "code",
   "execution_count": null,
   "metadata": {},
   "outputs": [],
   "source": [
    "author = [name.split('; ') for name in df.author.values]\n",
    "nomes = list({name \n",
    "              for names in author \n",
    "              for name in names})\n",
    "print(\"{} authors have already published on the term of search\".format(len(nomes)))"
   ]
  },
  {
   "cell_type": "markdown",
   "metadata": {},
   "source": [
    "#### Total Journals Published\n",
    "Display journals and/or conferences related to the search theme"
   ]
  },
  {
   "cell_type": "code",
   "execution_count": null,
   "metadata": {},
   "outputs": [],
   "source": [
    "journals = list({paper for paper in df.journal})\n",
    "print(\"{} journals and/or conferences related to the search theme\".format(len(journals)))"
   ]
  },
  {
   "cell_type": "markdown",
   "metadata": {},
   "source": [
    "### Count number of publications\n",
    "<ul>\n",
    "    <li>Authrs: popular_authors</li>\n",
    "    <li>Journals: popular_journals</li>\n",
    "</ul>\n",
    "\n",
    "#### Top 10 Authors"
   ]
  },
  {
   "cell_type": "code",
   "execution_count": null,
   "metadata": {},
   "outputs": [],
   "source": [
    "from collections import Counter\n",
    "popular_authors = Counter(name\n",
    "                         for names in author\n",
    "                         for name in names).most_common()\n",
    "\n",
    "popular_journals = Counter(df.journal.values).most_common()\n",
    "\n",
    "def popular(coluna, popular_coluna):\n",
    "    popular = {}\n",
    "    popular[coluna] = []\n",
    "    popular['count'] = []\n",
    "    for col, count in popular_coluna:\n",
    "        popular[coluna].append(col)\n",
    "        popular['count'].append(count)\n",
    "    \n",
    "    return pd.DataFrame(data=popular)\n",
    "\n",
    "df_popular_authors = popular('author', popular_authors)\n",
    "df_popular_authors.head(10).set_index('author').sort_values('count', ascending=True).plot(kind='barh', \n",
    "                                                                                  figsize=(11,7), \n",
    "                                                                                  grid=False, \n",
    "                                                                                  color='darkgreen', \n",
    "                                                                                  legend=False)\n",
    "plt.title('The top 10 authors on the subject', fontsize=20)\n",
    "plt.xlabel('Number of publications', fontsize=20)\n",
    "plt.ylabel('Authors name', fontsize=20)\n",
    "plt.savefig(\"top_10_authors.png\", dpi=300)\n",
    "plt.show()"
   ]
  },
  {
   "cell_type": "markdown",
   "metadata": {},
   "source": [
    "#### Top 10 Journals"
   ]
  },
  {
   "cell_type": "code",
   "execution_count": null,
   "metadata": {},
   "outputs": [],
   "source": [
    "df_popular_journals = popular('journal', popular_journals)\n",
    "df_popular_journals.head(10).set_index('journal').sort_values('count', ascending=True).plot(kind='barh', \n",
    "                                                                                  figsize=(10,6), \n",
    "                                                                                  grid=True, \n",
    "                                                                                  color='darkgreen', \n",
    "                                                                                  legend=False)\n",
    "plt.title('The top 10 journals most widely published term', fontsize=12)\n",
    "plt.xlabel('Number of publications', fontsize=10)\n",
    "plt.ylabel('Journal name', fontsize=10)\n",
    "plt.savefig(\"amount_of_periodicals.png\", dpi=300)\n",
    "plt.show()"
   ]
  },
  {
   "cell_type": "markdown",
   "metadata": {},
   "source": [
    "### Show the best 5 Journals Impact Factor "
   ]
  },
  {
   "cell_type": "code",
   "execution_count": null,
   "metadata": {},
   "outputs": [],
   "source": [
    "df_cited = df.sort_values('impact_factor', ascending=False)\n",
    "df_cited.head(5)"
   ]
  },
  {
   "cell_type": "code",
   "execution_count": null,
   "metadata": {},
   "outputs": [],
   "source": []
  }
 ],
 "metadata": {
  "kernelspec": {
   "display_name": "Python 3",
   "language": "python",
   "name": "python3"
  },
  "language_info": {
   "codemirror_mode": {
    "name": "ipython",
    "version": 3
   },
   "file_extension": ".py",
   "mimetype": "text/x-python",
   "name": "python",
   "nbconvert_exporter": "python",
   "pygments_lexer": "ipython3",
   "version": "3.6.9"
  }
 },
 "nbformat": 4,
 "nbformat_minor": 4
}
